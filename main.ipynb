{
 "cells": [
  {
   "cell_type": "code",
   "execution_count": 1,
   "metadata": {},
   "outputs": [
    {
     "name": "stdout",
     "output_type": "stream",
     "text": [
      "Dataset shape: (67, 3)\n"
     ]
    },
    {
     "data": {
      "text/html": [
       "<div>\n",
       "<style scoped>\n",
       "    .dataframe tbody tr th:only-of-type {\n",
       "        vertical-align: middle;\n",
       "    }\n",
       "\n",
       "    .dataframe tbody tr th {\n",
       "        vertical-align: top;\n",
       "    }\n",
       "\n",
       "    .dataframe thead tr th {\n",
       "        text-align: left;\n",
       "    }\n",
       "</style>\n",
       "<table border=\"1\" class=\"dataframe\">\n",
       "  <thead>\n",
       "    <tr>\n",
       "      <th></th>\n",
       "      <th>Temperature</th>\n",
       "      <th>mu</th>\n",
       "      <th>qp</th>\n",
       "    </tr>\n",
       "    <tr>\n",
       "      <th></th>\n",
       "      <th>norm</th>\n",
       "      <th>norm</th>\n",
       "      <th>norm</th>\n",
       "    </tr>\n",
       "  </thead>\n",
       "  <tbody>\n",
       "    <tr>\n",
       "      <th>0</th>\n",
       "      <td>0.0</td>\n",
       "      <td>0.311549</td>\n",
       "      <td>0.145117</td>\n",
       "    </tr>\n",
       "    <tr>\n",
       "      <th>1</th>\n",
       "      <td>0.0</td>\n",
       "      <td>0.304558</td>\n",
       "      <td>0.127066</td>\n",
       "    </tr>\n",
       "    <tr>\n",
       "      <th>2</th>\n",
       "      <td>0.0</td>\n",
       "      <td>0.293051</td>\n",
       "      <td>0.088543</td>\n",
       "    </tr>\n",
       "    <tr>\n",
       "      <th>3</th>\n",
       "      <td>0.0</td>\n",
       "      <td>0.280920</td>\n",
       "      <td>0.065512</td>\n",
       "    </tr>\n",
       "    <tr>\n",
       "      <th>4</th>\n",
       "      <td>0.0</td>\n",
       "      <td>0.269754</td>\n",
       "      <td>0.100429</td>\n",
       "    </tr>\n",
       "  </tbody>\n",
       "</table>\n",
       "</div>"
      ],
      "text/plain": [
       "  Temperature        mu        qp\n",
       "         norm      norm      norm\n",
       "0         0.0  0.311549  0.145117\n",
       "1         0.0  0.304558  0.127066\n",
       "2         0.0  0.293051  0.088543\n",
       "3         0.0  0.280920  0.065512\n",
       "4         0.0  0.269754  0.100429"
      ]
     },
     "execution_count": 1,
     "metadata": {},
     "output_type": "execute_result"
    }
   ],
   "source": [
    "import pandas as pd\n",
    "\n",
    "# Read data from xls\n",
    "df = pd.read_excel('data/DatArticle_orig.xls', header=[0, 1])\n",
    "df = df[[('Temperature', 'norm'), ('mu', 'norm'), ('qp', 'norm')]]\n",
    "print(f'Dataset shape: {df.shape}')\n",
    "df.head()"
   ]
  },
  {
   "cell_type": "code",
   "execution_count": 12,
   "metadata": {},
   "outputs": [],
   "source": [
    "# Split data to features and target\n",
    "features = [('Temperature', 'norm'), ('mu', 'norm')]\n",
    "target = [('qp', 'norm')]\n",
    "\n",
    "X = df[features]\n",
    "y = df[target]"
   ]
  },
  {
   "cell_type": "markdown",
   "metadata": {},
   "source": [
    "### ML modeling"
   ]
  },
  {
   "cell_type": "code",
   "execution_count": 13,
   "metadata": {},
   "outputs": [],
   "source": [
    "# Tune and train a SVR model\n",
    "from sklearn.svm import SVR\n",
    "from sklearn.ensemble import RandomForestRegressor\n",
    "from sklearn.linear_model import LinearRegression\n",
    "from sklearn.model_selection import GridSearchCV, RandomizedSearchCV\n",
    "from sklearn.model_selection import cross_val_score, KFold\n",
    "from sklearn.metrics import mean_squared_error"
   ]
  },
  {
   "cell_type": "code",
   "execution_count": 21,
   "metadata": {},
   "outputs": [],
   "source": [
    "model = LinearRegression()"
   ]
  },
  {
   "cell_type": "code",
   "execution_count": 27,
   "metadata": {},
   "outputs": [
    {
     "name": "stdout",
     "output_type": "stream",
     "text": [
      "MSE error: [0.019954861360688626, 0.03421201515663465, 0.013810253340213019, 0.0037748765935606385, 0.023751700297432343, 0.04386578287907599, 0.07576159263792535, 0.1949377283826763, 0.22165901754759043, 0.009139955974456729]\n",
      "Mean MSE error: 0.06408677841702541\n"
     ]
    }
   ],
   "source": [
    "n_splits = 10\n",
    "kf = KFold(n_splits=n_splits)\n",
    "\n",
    "MSE_ERROR = []\n",
    "for train_index, val_index in kf.split(X):\n",
    "    X_train, X_val = X.iloc[train_index], X.iloc[val_index]\n",
    "    y_train, y_val = y.iloc[train_index], y.iloc[val_index]\n",
    "\n",
    "    model.fit(X_train, y_train)\n",
    "    y_pred = model.predict(X_val)\n",
    "    mse_error = mean_squared_error(y_val, y_pred)\n",
    "    MSE_ERROR.append(mse_error)\n",
    "\n",
    "print(f'MSE error: {MSE_ERROR}')\n",
    "print(f'Mean MSE error: {sum(MSE_ERROR) / n_splits}')"
   ]
  },
  {
   "cell_type": "code",
   "execution_count": 24,
   "metadata": {},
   "outputs": [
    {
     "ename": "SyntaxError",
     "evalue": "positional argument follows keyword argument (1812637844.py, line 5)",
     "output_type": "error",
     "traceback": [
      "\u001b[1;36m  Cell \u001b[1;32mIn[24], line 5\u001b[1;36m\u001b[0m\n\u001b[1;33m    X_train, X_test, y_train, y_test = train_test_split(X, y, test_size=0.2, rand)\u001b[0m\n\u001b[1;37m                                                                                 ^\u001b[0m\n\u001b[1;31mSyntaxError\u001b[0m\u001b[1;31m:\u001b[0m positional argument follows keyword argument\n"
     ]
    }
   ],
   "source": [
    "# Perform manually cross validation to find the best model; Don't use cross validation function of sklearn\n",
    "def cross_validation(model, X, y, cv=5):\n",
    "    scores = []\n",
    "    for i in range(cv):\n",
    "        X_train, X_test, y_train, y_test = train_test_split(X, y, test_size=0.2)\n",
    "        model.fit(X_train, y_train)\n",
    "        y_pred = model.predict(X_test)\n",
    "        scores.append(mean_squared_error(y_test, y_pred))\n",
    "    return np.mean(scores)"
   ]
  },
  {
   "cell_type": "code",
   "execution_count": 25,
   "metadata": {},
   "outputs": [],
   "source": [
    "# Create a function for tuning hyperparameters\n",
    "def tune_model(model, X, y, params, cv=10, scoring='neg_mean_squared_error'):\n",
    "    grid = GridSearchCV(model, params, cv=cv, scoring=scoring)\n",
    "    grid.fit(X, y)\n",
    "    return grid.best_estimator_\n",
    "\n",
    "# Create a function for SVR model\n",
    "def svr_model(X, y):\n",
    "    model = SVR()\n",
    "    \n",
    "    # Define a grid of parameters\n",
    "    param_grid = {\n",
    "        'C': [0.1, 1, 10, 100],\n",
    "        'gamma': [0.001, 0.01, 0.1, 1, 10, 100],\n",
    "        'epsilon': [0.01, 0.1, 1, 10, 100],\n",
    "        'kernel': ['rbf', 'sigmoid', 'linear']\n",
    "    }\n",
    "\n",
    "    best_model = tune_model(model, X, y, param_grid)\n",
    "    return best_model\n",
    "\n",
    "# Create a function for Random Forest model\n",
    "def rf_model(X, y):\n",
    "    model = RandomForestRegressor()\n",
    "\n",
    "    # Define a grid of parameters\n",
    "    param_grid = {\n",
    "        'n_estimators': [10, 50],\n",
    "        'max_depth': [None, 5, 10],\n",
    "        'min_samples_split': [2, 5, 10],\n",
    "        'min_samples_leaf': [1, 2, 4, 10]\n",
    "    }\n",
    "\n",
    "    best_model = tune_model(model, X, y, param_grid)\n",
    "    return best_model\n",
    "\n",
    "# Create a function for Linear Regression model\n",
    "def lr_model(X, y):\n",
    "    model = LinearRegression()\n",
    "    model.fit(X,y)\n",
    "    return model\n",
    "\n",
    "def cv_scores(model, X, y, cv=10, scoring='neg_mean_squared_error'):\n",
    "    scores = cross_val_score(model, X, y, cv=cv, scoring=scoring)\n",
    "    scores = pd.DataFrame(-scores, columns=['MSE'])\n",
    "    scores.index = scores.index + 1\n",
    "    return scores"
   ]
  },
  {
   "cell_type": "code",
   "execution_count": null,
   "metadata": {},
   "outputs": [
    {
     "name": "stdout",
     "output_type": "stream",
     "text": [
      "         MSE\n",
      "1   0.017778\n",
      "2   0.056292\n",
      "3   0.001196\n",
      "4   0.000420\n",
      "5   0.003862\n",
      "6   0.007472\n",
      "7   0.061502\n",
      "8   0.183767\n",
      "9   0.153050\n",
      "10  0.014392\n"
     ]
    }
   ],
   "source": [
    "svr = svr_model(X, y)\n",
    "scores = cv_scores(svr, X, y)\n",
    "print(scores)"
   ]
  },
  {
   "cell_type": "code",
   "execution_count": null,
   "metadata": {},
   "outputs": [
    {
     "name": "stdout",
     "output_type": "stream",
     "text": [
      "         MSE\n",
      "1   0.008818\n",
      "2   0.052411\n",
      "3   0.000818\n",
      "4   0.001156\n",
      "5   0.066159\n",
      "6   0.030264\n",
      "7   0.106721\n",
      "8   0.182675\n",
      "9   0.177633\n",
      "10  0.005027\n"
     ]
    }
   ],
   "source": [
    "rf = rf_model(X, y)\n",
    "scores = cv_scores(rf, X, y)\n",
    "print(scores)\n"
   ]
  },
  {
   "cell_type": "code",
   "execution_count": 26,
   "metadata": {},
   "outputs": [
    {
     "name": "stdout",
     "output_type": "stream",
     "text": [
      "         MSE\n",
      "1   0.019955\n",
      "2   0.034212\n",
      "3   0.013810\n",
      "4   0.003775\n",
      "5   0.023752\n",
      "6   0.043866\n",
      "7   0.075762\n",
      "8   0.194938\n",
      "9   0.221659\n",
      "10  0.009140\n"
     ]
    }
   ],
   "source": [
    "lr = lr_model(X, y)\n",
    "scores = cv_scores(lr, X, y)\n",
    "print(scores)"
   ]
  },
  {
   "cell_type": "code",
   "execution_count": null,
   "metadata": {},
   "outputs": [],
   "source": []
  }
 ],
 "metadata": {
  "kernelspec": {
   "display_name": "main",
   "language": "python",
   "name": "python3"
  },
  "language_info": {
   "codemirror_mode": {
    "name": "ipython",
    "version": 3
   },
   "file_extension": ".py",
   "mimetype": "text/x-python",
   "name": "python",
   "nbconvert_exporter": "python",
   "pygments_lexer": "ipython3",
   "version": "3.11.2"
  }
 },
 "nbformat": 4,
 "nbformat_minor": 2
}

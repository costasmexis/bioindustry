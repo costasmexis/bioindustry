{
 "cells": [
  {
   "cell_type": "code",
   "execution_count": 2,
   "metadata": {},
   "outputs": [],
   "source": [
    "import pandas as pd\n",
    "from utils import *"
   ]
  },
  {
   "cell_type": "code",
   "execution_count": 3,
   "metadata": {},
   "outputs": [
    {
     "name": "stdout",
     "output_type": "stream",
     "text": [
      "Dataset shape: (67, 3)\n"
     ]
    }
   ],
   "source": [
    "df, X, y = import_data('data/DatArticle_orig.xls')"
   ]
  },
  {
   "cell_type": "markdown",
   "metadata": {},
   "source": [
    "### ML modeling"
   ]
  },
  {
   "cell_type": "code",
   "execution_count": 5,
   "metadata": {},
   "outputs": [],
   "source": [
    "svr = svr_model(X, y)\n",
    "rf = rf_model(X, y)\n",
    "lr = lr_model(X, y)\n",
    "\n",
    "manual_cv(svr, 'SVR', X, y)\n",
    "manual_cv(rf, 'RF', X, y)\n",
    "manual_cv(lr, 'LR', X, y)"
   ]
  },
  {
   "cell_type": "code",
   "execution_count": 4,
   "metadata": {},
   "outputs": [],
   "source": [
    "# Save trained models using pickle\n",
    "import pickle\n",
    "\n",
    "with open('models/svr.pkl', 'wb') as f:\n",
    "    pickle.dump(svr, f)\n",
    "\n",
    "with open('models/rf.pkl', 'wb') as f:\n",
    "    pickle.dump(rf, f)\n",
    "\n",
    "with open('models/lr.pkl', 'wb') as f:\n",
    "    pickle.dump(lr, f)"
   ]
  },
  {
   "cell_type": "code",
   "execution_count": 4,
   "metadata": {},
   "outputs": [
    {
     "data": {
      "text/html": [
       "<div>\n",
       "<style scoped>\n",
       "    .dataframe tbody tr th:only-of-type {\n",
       "        vertical-align: middle;\n",
       "    }\n",
       "\n",
       "    .dataframe tbody tr th {\n",
       "        vertical-align: top;\n",
       "    }\n",
       "\n",
       "    .dataframe thead th {\n",
       "        text-align: right;\n",
       "    }\n",
       "</style>\n",
       "<table border=\"1\" class=\"dataframe\">\n",
       "  <thead>\n",
       "    <tr style=\"text-align: right;\">\n",
       "      <th></th>\n",
       "      <th>y_val</th>\n",
       "      <th>y_pred</th>\n",
       "      <th>iter</th>\n",
       "      <th>model</th>\n",
       "      <th>sample_id</th>\n",
       "      <th>mse</th>\n",
       "    </tr>\n",
       "  </thead>\n",
       "  <tbody>\n",
       "    <tr>\n",
       "      <th>0</th>\n",
       "      <td>0.420958</td>\n",
       "      <td>0.250345</td>\n",
       "      <td>10</td>\n",
       "      <td>LR</td>\n",
       "      <td>61</td>\n",
       "      <td>0.00914</td>\n",
       "    </tr>\n",
       "    <tr>\n",
       "      <th>1</th>\n",
       "      <td>0.382604</td>\n",
       "      <td>0.250327</td>\n",
       "      <td>10</td>\n",
       "      <td>LR</td>\n",
       "      <td>62</td>\n",
       "      <td>0.00914</td>\n",
       "    </tr>\n",
       "    <tr>\n",
       "      <th>2</th>\n",
       "      <td>0.317890</td>\n",
       "      <td>0.249794</td>\n",
       "      <td>10</td>\n",
       "      <td>LR</td>\n",
       "      <td>63</td>\n",
       "      <td>0.00914</td>\n",
       "    </tr>\n",
       "    <tr>\n",
       "      <th>3</th>\n",
       "      <td>0.292411</td>\n",
       "      <td>0.249367</td>\n",
       "      <td>10</td>\n",
       "      <td>LR</td>\n",
       "      <td>64</td>\n",
       "      <td>0.00914</td>\n",
       "    </tr>\n",
       "    <tr>\n",
       "      <th>4</th>\n",
       "      <td>0.269020</td>\n",
       "      <td>0.248844</td>\n",
       "      <td>10</td>\n",
       "      <td>LR</td>\n",
       "      <td>65</td>\n",
       "      <td>0.00914</td>\n",
       "    </tr>\n",
       "    <tr>\n",
       "      <th>...</th>\n",
       "      <td>...</td>\n",
       "      <td>...</td>\n",
       "      <td>...</td>\n",
       "      <td>...</td>\n",
       "      <td>...</td>\n",
       "      <td>...</td>\n",
       "    </tr>\n",
       "    <tr>\n",
       "      <th>196</th>\n",
       "      <td>0.687648</td>\n",
       "      <td>0.224932</td>\n",
       "      <td>9</td>\n",
       "      <td>SVR</td>\n",
       "      <td>56</td>\n",
       "      <td>0.15305</td>\n",
       "    </tr>\n",
       "    <tr>\n",
       "      <th>197</th>\n",
       "      <td>0.654143</td>\n",
       "      <td>0.237313</td>\n",
       "      <td>9</td>\n",
       "      <td>SVR</td>\n",
       "      <td>57</td>\n",
       "      <td>0.15305</td>\n",
       "    </tr>\n",
       "    <tr>\n",
       "      <th>198</th>\n",
       "      <td>0.623135</td>\n",
       "      <td>0.247477</td>\n",
       "      <td>9</td>\n",
       "      <td>SVR</td>\n",
       "      <td>58</td>\n",
       "      <td>0.15305</td>\n",
       "    </tr>\n",
       "    <tr>\n",
       "      <th>199</th>\n",
       "      <td>0.588833</td>\n",
       "      <td>0.257205</td>\n",
       "      <td>9</td>\n",
       "      <td>SVR</td>\n",
       "      <td>59</td>\n",
       "      <td>0.15305</td>\n",
       "    </tr>\n",
       "    <tr>\n",
       "      <th>200</th>\n",
       "      <td>0.442017</td>\n",
       "      <td>0.280545</td>\n",
       "      <td>9</td>\n",
       "      <td>SVR</td>\n",
       "      <td>60</td>\n",
       "      <td>0.15305</td>\n",
       "    </tr>\n",
       "  </tbody>\n",
       "</table>\n",
       "<p>201 rows × 6 columns</p>\n",
       "</div>"
      ],
      "text/plain": [
       "        y_val    y_pred  iter model  sample_id      mse\n",
       "0    0.420958  0.250345    10    LR         61  0.00914\n",
       "1    0.382604  0.250327    10    LR         62  0.00914\n",
       "2    0.317890  0.249794    10    LR         63  0.00914\n",
       "3    0.292411  0.249367    10    LR         64  0.00914\n",
       "4    0.269020  0.248844    10    LR         65  0.00914\n",
       "..        ...       ...   ...   ...        ...      ...\n",
       "196  0.687648  0.224932     9   SVR         56  0.15305\n",
       "197  0.654143  0.237313     9   SVR         57  0.15305\n",
       "198  0.623135  0.247477     9   SVR         58  0.15305\n",
       "199  0.588833  0.257205     9   SVR         59  0.15305\n",
       "200  0.442017  0.280545     9   SVR         60  0.15305\n",
       "\n",
       "[201 rows x 6 columns]"
      ]
     },
     "execution_count": 4,
     "metadata": {},
     "output_type": "execute_result"
    }
   ],
   "source": [
    "final_df = read_csv(FOLDER)\n",
    "final_df    "
   ]
  },
  {
   "cell_type": "code",
   "execution_count": 5,
   "metadata": {},
   "outputs": [
    {
     "name": "stdout",
     "output_type": "stream",
     "text": [
      "0.04696865823309489\n",
      "0.06060205652667243\n",
      "0.05862537098419541\n"
     ]
    },
    {
     "name": "stderr",
     "output_type": "stream",
     "text": [
      "C:\\Users\\mexis\\AppData\\Local\\Temp\\ipykernel_25712\\2846435187.py:1: FutureWarning: The default value of numeric_only in DataFrame.mean is deprecated. In a future version, it will default to False. In addition, specifying 'numeric_only=None' is deprecated. Select only valid columns or specify the value of numeric_only to silence this warning.\n",
      "  print(final_df[final_df['model'] == 'SVR'].mean()['mse'])\n",
      "C:\\Users\\mexis\\AppData\\Local\\Temp\\ipykernel_25712\\2846435187.py:2: FutureWarning: The default value of numeric_only in DataFrame.mean is deprecated. In a future version, it will default to False. In addition, specifying 'numeric_only=None' is deprecated. Select only valid columns or specify the value of numeric_only to silence this warning.\n",
      "  print(final_df[final_df['model'] == 'LR'].mean()['mse'])\n",
      "C:\\Users\\mexis\\AppData\\Local\\Temp\\ipykernel_25712\\2846435187.py:3: FutureWarning: The default value of numeric_only in DataFrame.mean is deprecated. In a future version, it will default to False. In addition, specifying 'numeric_only=None' is deprecated. Select only valid columns or specify the value of numeric_only to silence this warning.\n",
      "  print(final_df[final_df['model'] == 'RF'].mean()['mse'])\n"
     ]
    }
   ],
   "source": [
    "print(final_df[final_df['model'] == 'SVR'].mean()['mse'])\n",
    "print(final_df[final_df['model'] == 'LR'].mean()['mse'])\n",
    "print(final_df[final_df['model'] == 'RF'].mean()['mse'])"
   ]
  },
  {
   "cell_type": "code",
   "execution_count": 6,
   "metadata": {},
   "outputs": [
    {
     "data": {
      "text/plain": [
       "iter  model\n",
       "1     LR       0.019955\n",
       "      RF       0.006898\n",
       "      SVR      0.017778\n",
       "2     LR       0.034212\n",
       "      RF       0.055890\n",
       "      SVR      0.056292\n",
       "3     LR       0.013810\n",
       "      RF       0.000764\n",
       "      SVR      0.001196\n",
       "4     LR       0.003775\n",
       "      RF       0.001072\n",
       "      SVR      0.000420\n",
       "5     LR       0.023752\n",
       "      RF       0.050967\n",
       "      SVR      0.003862\n",
       "6     LR       0.043866\n",
       "      RF       0.034529\n",
       "      SVR      0.007472\n",
       "7     LR       0.075762\n",
       "      RF       0.116519\n",
       "      SVR      0.061502\n",
       "8     LR       0.194938\n",
       "      RF       0.181346\n",
       "      SVR      0.183767\n",
       "9     LR       0.221659\n",
       "      RF       0.157230\n",
       "      SVR      0.153050\n",
       "10    LR       0.009140\n",
       "      RF       0.004994\n",
       "      SVR      0.014392\n",
       "Name: mse, dtype: float64"
      ]
     },
     "execution_count": 6,
     "metadata": {},
     "output_type": "execute_result"
    }
   ],
   "source": [
    "# Group by iter and model and get the mean of mse\n",
    "final_df.groupby(['iter', 'model']).mean()['mse'] \n"
   ]
  }
 ],
 "metadata": {
  "kernelspec": {
   "display_name": "main",
   "language": "python",
   "name": "python3"
  },
  "language_info": {
   "codemirror_mode": {
    "name": "ipython",
    "version": 3
   },
   "file_extension": ".py",
   "mimetype": "text/x-python",
   "name": "python",
   "nbconvert_exporter": "python",
   "pygments_lexer": "ipython3",
   "version": "3.11.2"
  }
 },
 "nbformat": 4,
 "nbformat_minor": 2
}
